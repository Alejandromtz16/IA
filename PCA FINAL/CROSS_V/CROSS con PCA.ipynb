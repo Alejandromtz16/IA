{
 "cells": [
  {
   "cell_type": "code",
   "execution_count": 1,
   "source": [
    "import numpy as np\r\n",
    "import matplotlib.pyplot as plt\r\n",
    "from sklearn.datasets import load_digits\r\n",
    "from sklearn import datasets, metrics\r\n",
    "from sklearn.model_selection import train_test_split\r\n",
    "from sklearn.model_selection import cross_val_score\r\n",
    "from sklearn.model_selection import KFold\r\n",
    "from sklearn.linear_model import LogisticRegression\r\n",
    "from sklearn.decomposition import PCA\r\n",
    "\r\n",
    "\r\n",
    "digits = load_digits()\r\n"
   ],
   "outputs": [],
   "metadata": {}
  },
  {
   "cell_type": "code",
   "execution_count": 2,
   "source": [
    "X_digits, y_digits = digits.data, digits.target\r\n",
    "print(digits.keys())\r\n",
    "\r\n",
    "n_row, n_col = 2, 5\r\n",
    "\r\n",
    "def print_digits(images, y, max_n = 10):\r\n",
    "    fig = plt.figure(figsize= (2. * n_col, 2.26 * n_row))\r\n",
    "    i=0 \r\n",
    "    while i < max_n and i < images.shape[0]:\r\n",
    "        p = fig.add_subplot(n_row, n_col, i + 1, xticks=[], yticks=[])\r\n",
    "        p.imshow(images[i], cmap=plt.cm.bone, interpolation='nearest')\r\n",
    "        p.text(0, -1, str(y[i]))\r\n",
    "        i = i + 1\r\n",
    "\r\n",
    "print_digits(digits.images, digits.target, max_n=10)\r\n",
    "\r\n",
    "def plot_pca_scatter():\r\n",
    "    colors = ['black', 'blue', 'purple', 'yellow', 'white', 'red', 'lime', 'cyan', 'orange' ,'gray']\r\n",
    "    for i in range(len(colors)):\r\n",
    "        px = X_pca[:, 0][y_digits == i]\r\n",
    "        py = X_pca[:, 1][y_digits == i]\r\n",
    "        plt.scatter(px, py, c = colors[i])\r\n",
    "    plt.legend(digits.target_names)\r\n",
    "    plt.xlabel('First Principal Component')\r\n",
    "    plt.ylabel('Second Principal Component')\r\n",
    "\r\n",
    "n_components = n_row * n_col\r\n",
    "estimator = PCA(n_components=n_components)\r\n",
    "X_pca = estimator.fit_transform(X_digits)\r\n",
    "plot_pca_scatter()\r\n",
    "def print_pca_components(images, n_col, n_row):\r\n",
    "    plt.figure(figsize=(2. * n_col, 2.26 * n_row))\r\n",
    "    for i, comp in enumerate(images):\r\n",
    "        plt.subplot(n_row, n_col, i + 1)\r\n",
    "        plt.imshow(comp.reshape((8, 8)),interpolation='nearest')\r\n",
    "        plt.text(0, -1, str(i + 1) + '-component')\r\n",
    "        plt.xticks(())\r\n",
    "        plt.yticks(()) \r\n",
    "\r\n",
    "print_pca_components(estimator.components_[:n_components], n_col, n_row)"
   ],
   "outputs": [
    {
     "output_type": "stream",
     "name": "stdout",
     "text": [
      "dict_keys(['data', 'target', 'frame', 'feature_names', 'target_names', 'images', 'DESCR'])\n"
     ]
    }
   ],
   "metadata": {}
  },
  {
   "cell_type": "code",
   "execution_count": null,
   "source": [
    "digits = datasets.load_digits()\r\n",
    "X_train, X_test, y_train, y_test = train_test_split(digits.data, digits.target, test_size=0.3, shuffle= True)\r\n",
    "kf = KFold(n_splits=5)\r\n"
   ],
   "outputs": [],
   "metadata": {}
  },
  {
   "cell_type": "code",
   "execution_count": null,
   "source": [
    "clf = LogisticRegression()\r\n"
   ],
   "outputs": [],
   "metadata": {}
  },
  {
   "cell_type": "code",
   "execution_count": null,
   "source": [
    "clf.fit(X_train, y_train)"
   ],
   "outputs": [],
   "metadata": {}
  },
  {
   "cell_type": "code",
   "execution_count": null,
   "source": [
    "score = clf.score(X_train, y_train)"
   ],
   "outputs": [],
   "metadata": {}
  },
  {
   "cell_type": "code",
   "execution_count": null,
   "source": [
    "print('Metrica del modelo',score)"
   ],
   "outputs": [
    {
     "output_type": "stream",
     "name": "stdout",
     "text": [
      "Metrica del modelo 1.0\n"
     ]
    }
   ],
   "metadata": {}
  },
  {
   "cell_type": "code",
   "execution_count": null,
   "source": [
    "scores = cross_val_score(clf,X_train, y_train, cv = kf, scoring='accuracy')"
   ],
   "outputs": [],
   "metadata": {}
  },
  {
   "cell_type": "code",
   "execution_count": null,
   "source": [
    "print('Metrica cross_validation',score)"
   ],
   "outputs": [
    {
     "output_type": "stream",
     "name": "stdout",
     "text": [
      "Metrica cross_validation [0.93253968 0.97619048 0.96015936 0.97211155 0.94820717]\n"
     ]
    }
   ],
   "metadata": {}
  },
  {
   "cell_type": "code",
   "execution_count": null,
   "source": [
    "print('Media de Cross_validation', scores.mean())"
   ],
   "outputs": [
    {
     "output_type": "stream",
     "name": "stdout",
     "text": [
      "Metricas Cross_validation 0.9578416492759121\n"
     ]
    }
   ],
   "metadata": {}
  },
  {
   "cell_type": "code",
   "execution_count": null,
   "source": [
    "preds = clf.predict(X_test)"
   ],
   "outputs": [],
   "metadata": {}
  },
  {
   "cell_type": "code",
   "execution_count": null,
   "source": [
    "score_pred = metrics.accuracy_score(y_test, preds)"
   ],
   "outputs": [],
   "metadata": {}
  },
  {
   "cell_type": "code",
   "execution_count": null,
   "source": [
    "print('Metrica de test ',score_pred)"
   ],
   "outputs": [
    {
     "output_type": "stream",
     "name": "stdout",
     "text": [
      "Metrica de test  0.9629629629629629\n"
     ]
    }
   ],
   "metadata": {}
  },
  {
   "cell_type": "code",
   "execution_count": null,
   "source": [],
   "outputs": [],
   "metadata": {}
  }
 ],
 "metadata": {
  "orig_nbformat": 4,
  "language_info": {
   "name": "python",
   "version": "3.9.6",
   "mimetype": "text/x-python",
   "codemirror_mode": {
    "name": "ipython",
    "version": 3
   },
   "pygments_lexer": "ipython3",
   "nbconvert_exporter": "python",
   "file_extension": ".py"
  },
  "kernelspec": {
   "name": "python3",
   "display_name": "Python 3.9.6 64-bit"
  },
  "interpreter": {
   "hash": "043f45fdd60d53b9b1b825defb720df023f0ba54019237c778112562b209bdab"
  }
 },
 "nbformat": 4,
 "nbformat_minor": 2
}